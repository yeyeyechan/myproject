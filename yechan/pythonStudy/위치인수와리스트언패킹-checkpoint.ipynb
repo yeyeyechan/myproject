{
 "cells": [
  {
   "cell_type": "markdown",
   "metadata": {},
   "source": [
    "# 위치 인수와 키워드 인수 사용하기"
   ]
  },
  {
   "cell_type": "markdown",
   "metadata": {},
   "source": [
    "위치 인수 positional argument 는 인수의 위치가 정해져 있다.\n",
    "\n",
    "ex) print_number(a,b,c)\n",
    "\n",
    "이렇게 인수를 순서대로 넣을땐 리스트나 튜플을 사용할 수도 있다.\n",
    "\n",
    "함수(*리스트 혹은 튜플)\n",
    "\n",
    "변수대신 리스트 앞에 바로 '*' 붙여도 언패킹 적용!\n",
    "\n",
    "이때 매개변수의 갯수와 리스트의 갯수는 같아야 한다.\n"
   ]
  },
  {
   "cell_type": "markdown",
   "metadata": {},
   "source": [
    "#  가변 인수\n",
    "\n",
    "인수의 갯수가 정해져 있지 않을때 매개변수에 *을\n",
    "\n",
    "붙여 (*args) 가변인수를 만든다.\n",
    "\n",
    "위치 인수와 마찬가지로 리스트나 튜플을 넣어 언패킹을 해도 된다.\n",
    "\n",
    "고정 인수와 가변인수를 함께 사용하려면 가변 매개변수는 항상 고정 매개변수 뒤에 온다.\n"
   ]
  },
  {
   "cell_type": "code",
   "execution_count": 1,
   "metadata": {},
   "outputs": [
    {
     "name": "stdout",
     "output_type": "stream",
     "text": [
      "1\n",
      "()\n",
      "1\n",
      "(10, 20)\n",
      "10\n",
      "(20, 30)\n"
     ]
    },
    {
     "data": {
      "text/plain": [
       "10"
      ]
     },
     "execution_count": 1,
     "metadata": {},
     "output_type": "execute_result"
    }
   ],
   "source": [
    ">>> def print_numbers(a, *args):\n",
    "...     print(a)\n",
    "...     print(args)\n",
    "...\n",
    ">>> print_numbers(1)\n",
    "1\n",
    "()\n",
    ">>> print_numbers(1, 10, 20)\n",
    "1\n",
    "(10, 20)\n",
    ">>> print_numbers(*[10, 20, 30])\n",
    "10\n"
   ]
  },
  {
   "cell_type": "markdown",
   "metadata": {},
   "source": [
    "# 키워드 인수 사용하기"
   ]
  },
  {
   "cell_type": "code",
   "execution_count": 2,
   "metadata": {},
   "outputs": [
    {
     "name": "stdout",
     "output_type": "stream",
     "text": [
      "이름:  123\n",
      "나이:  123\n",
      "주소:  1234\n"
     ]
    }
   ],
   "source": [
    ">>> def personal_info(name, age, address):\n",
    "...     print('이름: ', name)\n",
    "...     print('나이: ', age)\n",
    "...     print('주소: ', address)\n",
    "...\n",
    "\n",
    "personal_info(name ='123', age =123, address=1234)"
   ]
  },
  {
   "cell_type": "markdown",
   "metadata": {},
   "source": [
    "똑같이 만들고 입력시에 매개변수명을 쓰고 값을 입력 해주면 된다. 순서 상관없음"
   ]
  },
  {
   "cell_type": "markdown",
   "metadata": {},
   "source": [
    "# 딕셔너리 언패킹\n",
    "\n",
    "딕셔너리를 사용해서 키워드 인수로 값을 넣을 수 있다.\n",
    "\n"
   ]
  },
  {
   "cell_type": "code",
   "execution_count": 3,
   "metadata": {},
   "outputs": [
    {
     "ename": "SyntaxError",
     "evalue": "invalid syntax (<ipython-input-3-3832548162c8>, line 10)",
     "output_type": "error",
     "traceback": [
      "\u001b[1;36m  File \u001b[1;32m\"<ipython-input-3-3832548162c8>\"\u001b[1;36m, line \u001b[1;32m10\u001b[0m\n\u001b[1;33m    주소:  서울시 용산구 이촌동\u001b[0m\n\u001b[1;37m               ^\u001b[0m\n\u001b[1;31mSyntaxError\u001b[0m\u001b[1;31m:\u001b[0m invalid syntax\n"
     ]
    }
   ],
   "source": [
    "def personal_info(name, age, address):\n",
    "...     print('이름: ', name)\n",
    "...     print('나이: ', age)\n",
    "...     print('주소: ', address)\n",
    "...\n",
    "x = {'name': '홍길동', 'age': 30, 'address': '서울시 용산구 이촌동'}\n",
    ">>> personal_info(**x)\n",
    "이름:  홍길동\n",
    "나이:  30\n",
    "주소:  서울시 용산구 이촌동\n"
   ]
  },
  {
   "cell_type": "markdown",
   "metadata": {},
   "source": [
    "딕셔너리 앞에 ** 두개를 붙이면 마치 personal_info(name='홍길동' , age =30, address = '서울시..') \n",
    "또는 personal_info('홍길동', 30, '서울시') 와 똑같이 적용된다."
   ]
  },
  {
   "cell_type": "markdown",
   "metadata": {},
   "source": [
    "변수 대신에 딕셔너리 직접 입력후 ** 도 마찬가지"
   ]
  },
  {
   "cell_type": "markdown",
   "metadata": {},
   "source": [
    "당연히 매개변수의 이름과 딕셔너리의 키이름이 같아야 하며 \n",
    "\n",
    "갯수도 같아야 한다.\n",
    "\n",
    "딕셔너리 키위드(키)는 반드시 문자열 형태!\n",
    "\n",
    "ex ) def abc(a,b,c) <------ **{'a':123 ...}\n",
    "\n",
    "* 한번만 쓰면 키값이 입력되는 형태!\n",
    "\n",
    "** 두번 언패킹하여 값을 쓴다!\n",
    "\n",
    "*args 는  키워드 인수로 입력시 오류난다!\n",
    "\n",
    "**kargs 는 키워드 인수를 사용하는 가변 인수 함수"
   ]
  },
  {
   "cell_type": "code",
   "execution_count": 19,
   "metadata": {},
   "outputs": [
    {
     "ename": "SyntaxError",
     "evalue": "invalid syntax (<ipython-input-19-1a19cc645ef6>, line 10)",
     "output_type": "error",
     "traceback": [
      "\u001b[1;36m  File \u001b[1;32m\"<ipython-input-19-1a19cc645ef6>\"\u001b[1;36m, line \u001b[1;32m10\u001b[0m\n\u001b[1;33m    address: 서울시 용산구 이촌동\u001b[0m\n\u001b[1;37m                   ^\u001b[0m\n\u001b[1;31mSyntaxError\u001b[0m\u001b[1;31m:\u001b[0m invalid syntax\n"
     ]
    }
   ],
   "source": [
    ">>> def personal_info(**kwargs):\n",
    "...     for kw, arg in kwargs.items():\n",
    "...         print(kw, ': ', arg, sep='')\n",
    "...\n",
    ">>> personal_info(name='홍길동')\n",
    "name: 홍길동\n",
    ">>> personal_info(name='홍길동', age=30, address='서울시 용산구 이촌동')\n",
    "name: 홍길동\n",
    "age: 30\n",
    "address: 서울시 용산구 이촌동\n",
    "    \n",
    "    \n",
    "    \n",
    ">>> x = {'name': '홍길동'}\n",
    ">>> personal_info(**x)\n",
    "name: 홍길동\n",
    ">>> y = {'name': '홍길동', 'age': 30, 'address': '서울시 용산구 이촌동'}\n",
    ">>> personal_info(**y)\n",
    "name: 홍길동\n",
    "age: 30\n",
    "address: 서울시 용산구 이촌동\n",
    "\n"
   ]
  },
  {
   "cell_type": "markdown",
   "metadata": {},
   "source": [
    "키워드 인수를 자유롭게 입력하고\n",
    "\n",
    "**를 붙여 딕셔너리나 딕셔너리 변수를 입력해도 똑같다.\n",
    "\n",
    "보통 키워드 가변인수는 아래와 같이 함수 안에서 특정 키가 있는지\n",
    "\n",
    "확인후 기능을 사용하는 방식으로 만든다."
   ]
  },
  {
   "cell_type": "code",
   "execution_count": 20,
   "metadata": {
    "collapsed": true
   },
   "outputs": [],
   "source": [
    "def personal_info(**kwargs):\n",
    "    if 'name' in kwargs:    # in으로 딕셔너리 안에 특정 키가 있는지 확인\n",
    "        print('이름: ', kwargs['name'])\n",
    "    if 'age' in kwargs:\n",
    "        print('나이: ', kwargs['age'])\n",
    "    if 'address' in kwargs:\n",
    "        print('주소: ', kwargs['address'])"
   ]
  },
  {
   "cell_type": "markdown",
   "metadata": {},
   "source": [
    "고정 인수와 가변(키워드) 인수를 함께 사용할때 **kwargs가 맨뒤에 온다.\n",
    "\n",
    "위치 인수와 키워드 인수를 함께 사용시 당연히 **가 * 뒤에 온다."
   ]
  },
  {
   "cell_type": "markdown",
   "metadata": {},
   "source": [
    "# 매개 변수에 초깃값 지정\n",
    "\n",
    "\n",
    "def 함수이름(매개변수=값):\n",
    "\n",
    "    코드\n",
    "\n",
    "매개변수의 초깃값은 주로 사용하는 값이 있고, 가끔 다른값을 사용해야 할때 활용!\n",
    "\n",
    "초깃값 설정 되있을시 호출시 비워도 된다.\n",
    "\n",
    "초깃값 부분은 항상 맨 뒤에 있어야한다.\n",
    "\n"
   ]
  },
  {
   "cell_type": "code",
   "execution_count": 21,
   "metadata": {},
   "outputs": [
    {
     "ename": "SyntaxError",
     "evalue": "invalid syntax (<ipython-input-21-53a19018c867>, line 14)",
     "output_type": "error",
     "traceback": [
      "\u001b[1;36m  File \u001b[1;32m\"<ipython-input-21-53a19018c867>\"\u001b[1;36m, line \u001b[1;32m14\u001b[0m\n\u001b[1;33m    주소:  서울시 용산구 이촌동\u001b[0m\n\u001b[1;37m               ^\u001b[0m\n\u001b[1;31mSyntaxError\u001b[0m\u001b[1;31m:\u001b[0m invalid syntax\n"
     ]
    }
   ],
   "source": [
    ">>> def personal_info(name, age, address='비공개'):\n",
    "...     print('이름: ', name)\n",
    "...     print('나이: ', age)\n",
    "...     print('주소: ', address)\n",
    "...\n",
    ">>> personal_info('홍길동', 30)\n",
    "이름:  홍길동\n",
    "나이:  30\n",
    "주소:  비공개\n",
    "\n",
    ">>> personal_info('홍길동', 30, '서울시 용산구 이촌동')\n",
    "이름:  홍길동\n",
    "나이:  30\n",
    "주소:  서울시 용산구 이촌동"
   ]
  },
  {
   "cell_type": "code",
   "execution_count": 27,
   "metadata": {},
   "outputs": [
    {
     "name": "stdout",
     "output_type": "stream",
     "text": [
      "10:20:30"
     ]
    }
   ],
   "source": [
    "print(10, 20, 30, sep=':', end=''\n",
    "     )\n",
    "#sep 과 end도 키워드 인수이다!"
   ]
  },
  {
   "cell_type": "code",
   "execution_count": null,
   "metadata": {
    "collapsed": true
   },
   "outputs": [],
   "source": []
  }
 ],
 "metadata": {
  "kernelspec": {
   "display_name": "Python 3",
   "language": "python",
   "name": "python3"
  },
  "language_info": {
   "codemirror_mode": {
    "name": "ipython",
    "version": 3
   },
   "file_extension": ".py",
   "mimetype": "text/x-python",
   "name": "python",
   "nbconvert_exporter": "python",
   "pygments_lexer": "ipython3",
   "version": "3.6.3"
  }
 },
 "nbformat": 4,
 "nbformat_minor": 2
}
