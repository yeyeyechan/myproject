{
 "cells": [
  {
   "cell_type": "markdown",
   "metadata": {},
   "source": [
    "# 딕셔너리\n",
    "\n",
    "\n",
    "키 값은 실수 정수 문자열 등의 혼합된 자료형 사용가능 하다 . \n",
    "\n",
    "다만 리스트 딕셔너리는 사용 불가\n",
    "\n",
    "중복된 키값은 가장 뒤에것이 적용된다.\n",
    "\n",
    "값에는 모든 자료형이 사용된다.\n"
   ]
  },
  {
   "cell_type": "code",
   "execution_count": 3,
   "metadata": {
    "collapsed": true
   },
   "outputs": [],
   "source": [
    "x = {100: 'hundred', False: 0, (3.5, 10): [3.5, 3.5]}\n"
   ]
  },
  {
   "cell_type": "markdown",
   "metadata": {},
   "source": [
    "1)  먼저 다음과 같이 dict에서 키=값 형식으로 딕셔너리를 만들 수 있다.\n",
    "\n",
    "여기선 키에 '' 안해줘도 됨 dict 이후 키값은 문자열로 바뀜"
   ]
  },
  {
   "cell_type": "code",
   "execution_count": 4,
   "metadata": {},
   "outputs": [
    {
     "data": {
      "text/plain": [
       "{'a': 10, 'b': 20, 'c': 30}"
      ]
     },
     "execution_count": 4,
     "metadata": {},
     "output_type": "execute_result"
    }
   ],
   "source": [
    ">>> x1 = dict(a=10, b=20, c=30)                      # 키=값 형식으로 딕셔너리를 만듦\n",
    ">>> x1\n",
    "{'a': 10, 'b': 20, 'c': 30}\n",
    "\n"
   ]
  },
  {
   "cell_type": "markdown",
   "metadata": {},
   "source": [
    "2) dict 에서 zip 함수를 이용하여 리스트 두개를 딕셔너리로 만드는 방법\n",
    "\n",
    "zip 에는 키가 들어있는 리스트와 값이 있는 리스트를 차례대로 넣어주면 된다. (정확히는 순서가 있는배열??)\n",
    "\n"
   ]
  },
  {
   "cell_type": "code",
   "execution_count": 8,
   "metadata": {},
   "outputs": [
    {
     "data": {
      "text/plain": [
       "{'a': 10, 'b': 20, 'c': 30}"
      ]
     },
     "execution_count": 8,
     "metadata": {},
     "output_type": "execute_result"
    }
   ],
   "source": [
    ">>> x2 = dict(zip(('a', 'b', 'c'), [10, 20, 30]))    # zip을 이용하여 리스트 두 개를 딕셔너리로 만듦\n",
    ">>> x2\n",
    "{'a': 10, 'b': 20, 'c': 30}\n"
   ]
  },
  {
   "cell_type": "markdown",
   "metadata": {},
   "source": [
    "3) dict 안에 (키, 값) 형식의 튜플로 나열된 리스트를 넣는다."
   ]
  },
  {
   "cell_type": "code",
   "execution_count": 6,
   "metadata": {},
   "outputs": [
    {
     "data": {
      "text/plain": [
       "{'a': 10, 'b': 20, 'c': 30}"
      ]
     },
     "execution_count": 6,
     "metadata": {},
     "output_type": "execute_result"
    }
   ],
   "source": [
    ">>> x3 = dict([('a', 10), ('b', 20), ('c', 30)])     # (키, 값) 형식의 튜플로 딕셔너리를 만듦\n",
    ">>> x3\n",
    "{'a': 10, 'b': 20, 'c': 30}\n"
   ]
  },
  {
   "cell_type": "markdown",
   "metadata": {},
   "source": [
    "4) dict 안에 중괄호로 딕셔너리 생성"
   ]
  },
  {
   "cell_type": "code",
   "execution_count": 7,
   "metadata": {},
   "outputs": [
    {
     "data": {
      "text/plain": [
       "{'a': 10, 'b': 20, 'c': 30}"
      ]
     },
     "execution_count": 7,
     "metadata": {},
     "output_type": "execute_result"
    }
   ],
   "source": [
    ">>> x4 = dict({'a': 10, 'b': 20, 'c': 30})           # dict 안에서 중괄호로 딕셔너리를 만듦\n",
    ">>> x4\n",
    "{'a': 10, 'b': 20, 'c': 30}\n"
   ]
  },
  {
   "cell_type": "code",
   "execution_count": 10,
   "metadata": {},
   "outputs": [
    {
     "data": {
      "text/plain": [
       "{1: 2, 2: 4, 3: 8, 4: 16, 5: 32, 6: 64, 7: 128, 8: 256, 9: 512, 10: 1024}"
      ]
     },
     "execution_count": 10,
     "metadata": {},
     "output_type": "execute_result"
    }
   ],
   "source": [
    "# 응용\n",
    "\n",
    "x = dict(zip (range(1,11), [2**i for i in range(1,11)]))\n",
    "\n"
   ]
  },
  {
   "cell_type": "markdown",
   "metadata": {},
   "source": [
    "없는 키에서 값을 지정하면 안된다.\n",
    "\n",
    "해시\n",
    "\n",
    "딕셔너리는 해시 기법을 이용해서 데이터를 저장 한다.\n",
    "\n",
    "\n",
    "보통 딕셔너리와 같은 키-값 형태의 자료형을 해시, 해시 맵, 해시 테이블 등으로 부른다."
   ]
  },
  {
   "cell_type": "markdown",
   "metadata": {},
   "source": [
    "키 혹은 값의 갯수는 len(x)"
   ]
  },
  {
   "cell_type": "code",
   "execution_count": 11,
   "metadata": {},
   "outputs": [
    {
     "data": {
      "text/plain": [
       "61"
      ]
     },
     "execution_count": 11,
     "metadata": {},
     "output_type": "execute_result"
    }
   ],
   "source": [
    ">>> x = dict(zip(range(174, 235), [str(i) for i in range(174, 235)]))\n",
    ">>> len(x)\n",
    "61\n"
   ]
  },
  {
   "cell_type": "markdown",
   "metadata": {},
   "source": [
    "# 딕셔너리 조작하기"
   ]
  },
  {
   "cell_type": "code",
   "execution_count": 14,
   "metadata": {},
   "outputs": [
    {
     "name": "stdout",
     "output_type": "stream",
     "text": [
      "100 200\n"
     ]
    },
    {
     "data": {
      "text/plain": [
       "{'a': 100, 'b': 200, 'c': 100, 'd': 40}"
      ]
     },
     "execution_count": 14,
     "metadata": {},
     "output_type": "execute_result"
    }
   ],
   "source": [
    ">>> x = {'a': 10, 'b': 20, 'c': 30, 'd': 40}\n",
    ">>> x.update(a=100, b=200)\n",
    ">>> print(x['a'], x['b'])\n",
    "\n",
    "\n",
    "# update(키 =값) 을 통해 값을 수정\n",
    "\n",
    "x.update(c=100)\n",
    "x\n",
    "# update(키 =값) 을 통해 값을 추가"
   ]
  },
  {
   "cell_type": "code",
   "execution_count": 15,
   "metadata": {},
   "outputs": [
    {
     "data": {
      "text/plain": [
       "0"
      ]
     },
     "execution_count": 15,
     "metadata": {},
     "output_type": "execute_result"
    }
   ],
   "source": [
    ">>> x = {'a': 10, 'b': 20, 'c': 30, 'd': 40}\n",
    ">>> x.pop('a')\n",
    "10\n",
    ">>> x\n",
    "{'b': 20, 'c': 30, 'd': 40}\n",
    ">>> x.pop('z', 0)\n",
    "0\n",
    "\n",
    "\n",
    "# 키값을 넣고 키-값 쌍을 제거 후 값을 반환. 해당 키가 없을 땐 지정된 기본 값만 반환\n",
    "\n",
    "#pop(키, 기본값) or pop(키)\n"
   ]
  },
  {
   "cell_type": "code",
   "execution_count": 16,
   "metadata": {},
   "outputs": [
    {
     "data": {
      "text/plain": [
       "{'b': 20, 'c': 30, 'd': 40}"
      ]
     },
     "execution_count": 16,
     "metadata": {},
     "output_type": "execute_result"
    }
   ],
   "source": [
    ">>> x = {'a': 10, 'b': 20, 'c': 30, 'd': 40}\n",
    ">>> del x['a']\n",
    ">>> x\n",
    "{'b': 20, 'c': 30, 'd': 40}\n",
    "\n",
    "\n",
    "# pop대신 del 로 특정 키-값쌍 제거 가능"
   ]
  },
  {
   "cell_type": "code",
   "execution_count": 17,
   "metadata": {},
   "outputs": [
    {
     "ename": "SyntaxError",
     "evalue": "invalid syntax (<ipython-input-17-202e182f8f86>, line 9)",
     "output_type": "error",
     "traceback": [
      "\u001b[1;36m  File \u001b[1;32m\"<ipython-input-17-202e182f8f86>\"\u001b[1;36m, line \u001b[1;32m9\u001b[0m\n\u001b[1;33m    <span class=\"n\">x = {'a': 10, 'b': 20, 'c': 30, 'd': 40}\u001b[0m\n\u001b[1;37m    ^\u001b[0m\n\u001b[1;31mSyntaxError\u001b[0m\u001b[1;31m:\u001b[0m invalid syntax\n"
     ]
    }
   ],
   "source": [
    ">>> x = {'a': 10, 'b': 20, 'c': 30, 'd': 40}\n",
    ">>> x.popitem()\n",
    "('d', 40)\n",
    ">>> x\n",
    "{'a': 10, 'b': 20, 'c': 30}\n",
    "\n",
    "# popitem()은 임의의 키-값 쌍을 삭제후 삭제된 쌍을 튜플로 반환\n",
    "\n",
    ">>> <span class=\"n\">x = {'a': 10, 'b': 20, 'c': 30, 'd': 40}\n",
    ">>> x.clear()\n",
    ">>> x\n",
    "{}\n",
    "\n",
    "\n",
    "# 모든 딕셔너리 키값 쌍을 삭제하여 빈딕셔너리 만든다.\n",
    "\n",
    ">>> x = {'a': 10, 'b': 20, 'c': 30, 'd': 40}\n",
    ">>> x.get('a')\n",
    "10\n",
    ">>> x.get('z', 0)\n",
    "0\n",
    "\n",
    "\n",
    "# get(키) 는 값을 반환하고 없을시 기본값 반환\n",
    "\n",
    "\n",
    ">>> x = {'a': 10, 'b': 20, 'c': 30, 'd': 40}\n",
    ">>> x.setdefault('e')\n",
    ">>> x.setdefault('f', 100)\n",
    "60\n",
    ">>> x\n",
    "{'a': 10, 'b': 20, 'c': 30, 'd': 40, 'e': None, 'f': 60}\n",
    "\n",
    "\n",
    "#setdefault는 새 키와 값을 추가! 값을 지정 안할시 None , 이미 있는것은 수정 불가.\n",
    "\n",
    "\n",
    "\n",
    ">>> x = {'a': 10, 'b': 20, 'c': 30, 'd': 40}\n",
    ">>> x.items()\n",
    "dict_items([('a', 10), ('b', 20), ('c', 30), ('d', 40)])\n",
    ">>> x.keys()\n",
    "dict_keys(['a', 'b', 'c', 'd'])\n",
    ">>> x.values()\n",
    "dict_values([10, 20, 30, 40])\n",
    "\n",
    "\n",
    "#items() 는 키와 값의 쌍 keys()는 키 values()는 값만 가져온다.\n",
    "\n",
    "\n",
    "\n",
    ">>> keys = ['a', 'b', 'c', 'd']\n",
    ">>> x = dict.fromkeys(keys)\n",
    ">>> x\n",
    "{'a': None, 'b': None, 'c': None, 'd': None}\n",
    ">>> y = dict.fromkeys(keys, 100)\n",
    ">>> y\n",
    "{'a': 100, 'b': 100, 'c': 100, 'd': 100}\n",
    "\n",
    "\n",
    "# 리스트 혹은 튜플로 fromkeys에 넣으면 딕셔너리 반환 값도 지정 해줄수 있다.\n"
   ]
  },
  {
   "cell_type": "code",
   "execution_count": 19,
   "metadata": {},
   "outputs": [
    {
     "data": {
      "text/plain": [
       "{0: None,\n",
       " 1: None,\n",
       " 2: None,\n",
       " 3: None,\n",
       " 4: None,\n",
       " 5: None,\n",
       " 6: None,\n",
       " 7: None,\n",
       " 8: None,\n",
       " 9: None}"
      ]
     },
     "execution_count": 19,
     "metadata": {},
     "output_type": "execute_result"
    }
   ],
   "source": [
    "\n",
    "y=dict.fromkeys(range(10))\n",
    "y\n"
   ]
  },
  {
   "cell_type": "markdown",
   "metadata": {},
   "source": [
    "# 딕셔너리 할당과 복사\n",
    "\n",
    "\n",
    "할당시 리스트와 마찬가지로 객체 자체가 동일 하여 하나를 바꿔도 다바뀐다.\n",
    "\n",
    "copy메소드를 사용하여 만들어야 서로에게 영향이 안간다. \n",
    "\n",
    "그렇다 하더라도 값이 같으므로 ==은 True 를 반환 한다. (is는 false)\n",
    "\n"
   ]
  },
  {
   "cell_type": "code",
   "execution_count": 21,
   "metadata": {},
   "outputs": [
    {
     "data": {
      "text/plain": [
       "True"
      ]
     },
     "execution_count": 21,
     "metadata": {},
     "output_type": "execute_result"
    }
   ],
   "source": [
    ">>> x = {'a': 0, 'b': 0, 'c': 0, 'd': 0}\n",
    ">>> y = x\n",
    ">>> y['a'] = 99\n",
    ">>> x\n",
    "{'a': 99, 'b': 0, 'c': 0, 'd': 0}\n",
    ">>> y\n",
    "{'a': 99, 'b': 0, 'c': 0, 'd': 0}\n",
    "\n",
    ">>> x = {'a': 0, 'b': 0, 'c': 0, 'd': 0}\n",
    ">>> y = x\n",
    ">>> x is y\n",
    "True\n",
    ">>> x == y\n",
    "True\n",
    "\n",
    ">>> x = {'a': 0, 'b': 0, 'c': 0, 'd': 0}\n",
    ">>> y = x.copy()\n",
    ">>> y['a'] = 99\n",
    ">>> x\n",
    "{'a': 0, 'b': 0, 'c': 0, 'd': 0}\n",
    ">>> y\n",
    "{'a': 99, 'b': 0, 'c': 0, 'd': 0}\n",
    ">>> \n",
    "\n",
    ">>> x = {'a': 0, 'b': 0, 'c': 0, 'd': 0}\n",
    ">>> y = x.copy()\n",
    ">>> x is y\n",
    "False\n",
    ">>> x == y\n",
    "True\n",
    "\n",
    "\n"
   ]
  },
  {
   "cell_type": "markdown",
   "metadata": {},
   "source": [
    "# 반복문으로 딕셔너리의 값 출력\n"
   ]
  },
  {
   "cell_type": "code",
   "execution_count": 23,
   "metadata": {},
   "outputs": [
    {
     "name": "stdout",
     "output_type": "stream",
     "text": [
      "a b c d "
     ]
    }
   ],
   "source": [
    ">>> x = {'a': 10, 'b': 20, 'c': 30, 'd': 40}\n",
    ">>> for i in x:\n",
    "...     print(i, end=' ')\n",
    "...\n",
    "\n"
   ]
  },
  {
   "cell_type": "code",
   "execution_count": 27,
   "metadata": {},
   "outputs": [
    {
     "name": "stdout",
     "output_type": "stream",
     "text": [
      "('a', 10) ('b', 20) ('c', 30) ('d', 40) "
     ]
    }
   ],
   "source": [
    "\n",
    "for a,b in x.items():\n",
    "    print((a,b), end = ' ')"
   ]
  },
  {
   "cell_type": "code",
   "execution_count": 28,
   "metadata": {},
   "outputs": [
    {
     "data": {
      "text/plain": [
       "True"
      ]
     },
     "execution_count": 28,
     "metadata": {},
     "output_type": "execute_result"
    }
   ],
   "source": [
    ">>> x = {'a': 10, 'b': 20, 'c': 30, 'd': 40}\n",
    ">>> 'a' in x\n",
    "True\n",
    ">>> 'a' not in x\n",
    "False\n",
    ">>> 'z' in x\n",
    "False\n",
    ">>> 'z' not in x\n",
    "True"
   ]
  },
  {
   "cell_type": "markdown",
   "metadata": {},
   "source": [
    "in 은 키를 확인하는 연산자 이다.\n",
    "\n"
   ]
  },
  {
   "cell_type": "markdown",
   "metadata": {},
   "source": [
    "# 딕셔너리 표현식 사용하기\n",
    "\n",
    "리스트와 마찬가지로 딕셔너리도 for 와 if 조건문을 사용하여 딕셔너리를 생성할 수 있습니다.\n",
    "\n",
    "{키: 값 for 키, 값 in 딕셔너리}\n",
    "\n",
    "dict({키: 값 for 키, 값 in 딕셔너리})\n",
    "\n"
   ]
  },
  {
   "cell_type": "code",
   "execution_count": 31,
   "metadata": {},
   "outputs": [
    {
     "data": {
      "text/plain": [
       "{'a': None, 'b': None, 'c': None, 'd': None}"
      ]
     },
     "execution_count": 31,
     "metadata": {},
     "output_type": "execute_result"
    }
   ],
   "source": [
    ">>> keys = ['a', 'b', 'c', 'd']\n",
    ">>> x = {key: value for key, value in dict.fromkeys(keys).items()}\n",
    ">>> x\n",
    "\n"
   ]
  },
  {
   "cell_type": "code",
   "execution_count": 34,
   "metadata": {},
   "outputs": [
    {
     "data": {
      "text/plain": [
       "{10: 'a', 20: 'b', 30: 'c', 40: 'd'}"
      ]
     },
     "execution_count": 34,
     "metadata": {},
     "output_type": "execute_result"
    }
   ],
   "source": [
    ">>> {key: 0 for key in dict.fromkeys(['a', 'b', 'c', 'd']).keys()}         # 키만 가져옴\n",
    "\n",
    ">>> {value: 0 for value in {'a': 10, 'b': 20, 'c': 30, 'd': 40}.values()}        # 값을 키로 사용\n",
    "\n",
    ">>> {value: key for key, value in {'a': 10, 'b': 20, 'c': 30, 'd': 40}.items()}  # 키-값 자리를 바꿈\n",
    "\n"
   ]
  },
  {
   "cell_type": "markdown",
   "metadata": {},
   "source": [
    "dict.fromkeys() 와 다를바 없는데 왜쓰냐?\n",
    "\n",
    "값을 삭제할때! 쓴다.\n",
    "\n",
    "x= {key:value for key,value in x.items() if key!=20}"
   ]
  },
  {
   "cell_type": "code",
   "execution_count": 35,
   "metadata": {},
   "outputs": [
    {
     "name": "stdout",
     "output_type": "stream",
     "text": [
      "6051.8\n"
     ]
    }
   ],
   "source": [
    "terrestrial_planet = {\n",
    "    'Mercury': {\n",
    "        'mean_radius': 2439.7,\n",
    "        'mass': 3.3022E+23,\n",
    "        'orbital_period': 87.969\n",
    "    },\n",
    "    'Venus': {\n",
    "        'mean_radius': 6051.8,\n",
    "        'mass': 4.8676E+24,\n",
    "        'orbital_period': 224.70069,\n",
    "    },\n",
    "    'Earth': {\n",
    "        'mean_radius': 6371.0,\n",
    "        'mass': 5.97219E+24,\n",
    "        'orbital_period': 365.25641,\n",
    "    },\n",
    "    'Mars': {\n",
    "        'mean_radius': 3389.5,\n",
    "        'mass': 6.4185E+23,\n",
    "        'orbital_period': 686.9600,\n",
    "    }\n",
    "}\n",
    " \n",
    "print(terrestrial_planet['Venus']['mean_radius'])    # 6051.8\n",
    "\n",
    "# 계층형 자료 정리에 좋다."
   ]
  },
  {
   "cell_type": "code",
   "execution_count": null,
   "metadata": {
    "collapsed": true
   },
   "outputs": [],
   "source": []
  },
  {
   "cell_type": "code",
   "execution_count": null,
   "metadata": {
    "collapsed": true
   },
   "outputs": [],
   "source": []
  }
 ],
 "metadata": {
  "kernelspec": {
   "display_name": "Python 3",
   "language": "python",
   "name": "python3"
  },
  "language_info": {
   "codemirror_mode": {
    "name": "ipython",
    "version": 3
   },
   "file_extension": ".py",
   "mimetype": "text/x-python",
   "name": "python",
   "nbconvert_exporter": "python",
   "pygments_lexer": "ipython3",
   "version": "3.6.3"
  }
 },
 "nbformat": 4,
 "nbformat_minor": 2
}
