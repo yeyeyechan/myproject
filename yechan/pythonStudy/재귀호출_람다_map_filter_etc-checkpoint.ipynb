{
 "cells": [
  {
   "cell_type": "markdown",
   "metadata": {},
   "source": [
    "# 재귀호출\n",
    "\n",
    "\n",
    "파이썬은 스택이 1000개로 제한 되있음\n",
    "\n",
    "보통은 종료조건이 필요함\n"
   ]
  },
  {
   "cell_type": "code",
   "execution_count": 1,
   "metadata": {},
   "outputs": [
    {
     "name": "stdout",
     "output_type": "stream",
     "text": [
      "Hello, world! 5\n",
      "Hello, world! 4\n",
      "Hello, world! 3\n",
      "Hello, world! 2\n",
      "Hello, world! 1\n"
     ]
    }
   ],
   "source": [
    "def hello(count):\n",
    "    if count == 0:    # 종료 조건을 만듦. count가 0이면 다시 hello 함수를 호출하지 않고 끝냄\n",
    "        return\n",
    "    \n",
    "    print('Hello, world!', count)\n",
    "    \n",
    "    count -= 1      # count를 1 감소시킨 뒤\n",
    "    hello(count)    # 다시 hello에 넣음\n",
    " \n",
    "hello(5)    # hello 함수 호출\n",
    "\n"
   ]
  },
  {
   "cell_type": "code",
   "execution_count": 2,
   "metadata": {
    "scrolled": false
   },
   "outputs": [
    {
     "name": "stdout",
     "output_type": "stream",
     "text": [
      "120\n"
     ]
    }
   ],
   "source": [
    "def factorial(n):\n",
    "    if n==1:      # n이 1일때\n",
    "        return 1   #1을 반환하고 재귀호출을 끝낸다.\n",
    "    \n",
    "    \n",
    "    \n",
    "    return n*factorial(n-1) # n과 factorial 함수에 n - 1을 넣어서 반환된 값을 곱함\n",
    "\n",
    "\n",
    "print(factorial(5))"
   ]
  },
  {
   "cell_type": "raw",
   "metadata": {},
   "source": [
    "핵심은 반환값 부분\n",
    "\n",
    "\n",
    "계산 결과가 즉시 구해지는 것이 아니라 재귀호출로 n-1을 계속 전달하다가\n",
    "\n",
    "n 이1 일때 비로소 1을 반환하면서 n과 곱하고 다시 결괏값을 반환\n",
    "\n",
    "그뒤 n과 반환된 결과값을 곱하여 다시 반환하는 과정을 반복한다."
   ]
  },
  {
   "cell_type": "markdown",
   "metadata": {},
   "source": [
    "# 람다로 함수 만들기\n",
    "\n",
    "람다 표현식\n",
    "\n"
   ]
  },
  {
   "cell_type": "code",
   "execution_count": 3,
   "metadata": {},
   "outputs": [
    {
     "data": {
      "text/plain": [
       "[11, 12, 13]"
      ]
     },
     "execution_count": 3,
     "metadata": {},
     "output_type": "execute_result"
    }
   ],
   "source": [
    ">>> def plus_ten(x):\n",
    "...     return x + 10\n",
    "...\n",
    ">>> list(map(plus_ten, [1, 2, 3]))\n",
    "[11, 12, 13]\n"
   ]
  },
  {
   "cell_type": "code",
   "execution_count": 5,
   "metadata": {},
   "outputs": [
    {
     "data": {
      "text/plain": [
       "[11, 12, 13]"
      ]
     },
     "execution_count": 5,
     "metadata": {},
     "output_type": "execute_result"
    }
   ],
   "source": [
    ">>> list(map(lambda x: x + 10, [1, 2, 3]))\n",
    "[11, 12, 13]"
   ]
  },
  {
   "cell_type": "markdown",
   "metadata": {},
   "source": [
    "lambda 매개변수1 , 매개변수2 ...: 반환값\n",
    "\n",
    "매개 변수 x 를 받는다.\n",
    "\n",
    "x에 10을 더해서 반환한다.\n"
   ]
  },
  {
   "cell_type": "code",
   "execution_count": 6,
   "metadata": {},
   "outputs": [
    {
     "data": {
      "text/plain": [
       "[11, 12, 13]"
      ]
     },
     "execution_count": 6,
     "metadata": {},
     "output_type": "execute_result"
    }
   ],
   "source": [
    ">>> f = lambda x: x + 10\n",
    ">>> list(map(f, [1, 2, 3]))\n",
    "[11, 12, 13]\n"
   ]
  },
  {
   "cell_type": "code",
   "execution_count": 12,
   "metadata": {},
   "outputs": [
    {
     "data": {
      "text/plain": [
       "11"
      ]
     },
     "execution_count": 12,
     "metadata": {},
     "output_type": "execute_result"
    }
   ],
   "source": [
    ">>> f = lambda x: x + 10\n",
    "\n",
    "(f)(1)"
   ]
  },
  {
   "cell_type": "code",
   "execution_count": 18,
   "metadata": {},
   "outputs": [
    {
     "data": {
      "text/plain": [
       "1"
      ]
     },
     "execution_count": 18,
     "metadata": {},
     "output_type": "execute_result"
    }
   ],
   "source": [
    "(lambda x: x + 10)(1)\n",
    "\n",
    "# 람다 표현식 자체를 호출 하려면 위와 같이 식을 묶고 인자를 넣는 식으로 하면된다.\n",
    "\n",
    "x =10\n",
    "\n",
    "(lambda x, y, z : x+y+z)(x,1,2)\n",
    "\n",
    "(lambda : 1)()\n"
   ]
  },
  {
   "cell_type": "code",
   "execution_count": 19,
   "metadata": {},
   "outputs": [
    {
     "data": {
      "text/plain": [
       "<function __main__.<lambda>>"
      ]
     },
     "execution_count": 19,
     "metadata": {},
     "output_type": "execute_result"
    }
   ],
   "source": [
    "(lambda :1)"
   ]
  },
  {
   "cell_type": "code",
   "execution_count": 20,
   "metadata": {
    "collapsed": true
   },
   "outputs": [],
   "source": [
    "# 위 두개의 표현의 차이 !!!"
   ]
  },
  {
   "cell_type": "markdown",
   "metadata": {},
   "source": [
    "# 람다와 map, filter, reduce 사용하기!\n",
    "\n",
    "lambda 매개변수1, 매개변수2: 식1 if 조건식 else 식2\n",
    "\n",
    "elif는 못쓴다 if else if else 반복 해야함.\n",
    "\n"
   ]
  },
  {
   "cell_type": "code",
   "execution_count": 22,
   "metadata": {},
   "outputs": [
    {
     "data": {
      "text/plain": [
       "['0', 1, 2, '3', 4, 5, '6', 7, 8, '9', 10]"
      ]
     },
     "execution_count": 22,
     "metadata": {},
     "output_type": "execute_result"
    }
   ],
   "source": [
    "a=range(11)\n",
    "\n",
    "list(map(lambda x : str(x) if x%3==0 else x , a))"
   ]
  },
  {
   "cell_type": "code",
   "execution_count": 23,
   "metadata": {},
   "outputs": [
    {
     "data": {
      "text/plain": [
       "['0', 1, 2, '3', 4, 5, '6', 7, 8, '9', 10]"
      ]
     },
     "execution_count": 23,
     "metadata": {},
     "output_type": "execute_result"
    }
   ],
   "source": [
    "a=list(range(11))\n",
    "\n",
    "list(map(lambda x : str(x) if x%3==0 else x , a))"
   ]
  },
  {
   "cell_type": "code",
   "execution_count": 31,
   "metadata": {},
   "outputs": [
    {
     "data": {
      "text/plain": [
       "[6, 7, 8, 9]"
      ]
     },
     "execution_count": 31,
     "metadata": {},
     "output_type": "execute_result"
    }
   ],
   "source": [
    "a=range(11)\n",
    "\n",
    "list(filter (lambda x : x >5 and x<10 ,a))"
   ]
  },
  {
   "cell_type": "markdown",
   "metadata": {},
   "source": [
    "# filter \n",
    "\n",
    "필터는 특정 조건에 맞는 요소만 가져오는 함수\n",
    "\n",
    "filter는 lambda 또는 함수의 반환 값이 True 일때 해당 요소를 가져온다\n",
    "\n",
    "따라서 True False 가 나오는 조건식을 넣어야 한다."
   ]
  },
  {
   "cell_type": "markdown",
   "metadata": {},
   "source": [
    "# Reduce\n",
    "\n",
    "요소 처음 부터 순차적으로 지정된 함수로 처리해준다.\n",
    "\n",
    "from functools import reduce와 같이 functools 모듈에서 reduce 함수를 가져와야 합니다"
   ]
  },
  {
   "cell_type": "code",
   "execution_count": 32,
   "metadata": {},
   "outputs": [
    {
     "data": {
      "text/plain": [
       "15"
      ]
     },
     "execution_count": 32,
     "metadata": {},
     "output_type": "execute_result"
    }
   ],
   "source": [
    ">>> a = [1, 2, 3, 4, 5]\n",
    ">>> from functools import reduce\n",
    ">>> reduce(lambda x, y: x + y, a)\n",
    "15\n"
   ]
  },
  {
   "cell_type": "code",
   "execution_count": null,
   "metadata": {
    "collapsed": true
   },
   "outputs": [],
   "source": []
  }
 ],
 "metadata": {
  "kernelspec": {
   "display_name": "Python 3",
   "language": "python",
   "name": "python3"
  },
  "language_info": {
   "codemirror_mode": {
    "name": "ipython",
    "version": 3
   },
   "file_extension": ".py",
   "mimetype": "text/x-python",
   "name": "python",
   "nbconvert_exporter": "python",
   "pygments_lexer": "ipython3",
   "version": "3.6.3"
  }
 },
 "nbformat": 4,
 "nbformat_minor": 2
}
